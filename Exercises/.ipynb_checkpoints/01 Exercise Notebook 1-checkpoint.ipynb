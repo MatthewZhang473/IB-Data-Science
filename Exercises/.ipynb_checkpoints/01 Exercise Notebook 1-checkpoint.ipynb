{
 "cells": [
  {
   "cell_type": "markdown",
   "metadata": {},
   "source": [
    "# Exercise 1\n",
    "\n",
    "We first load a dataset and examine its dimensions."
   ]
  },
  {
   "cell_type": "code",
   "execution_count": 1,
   "metadata": {},
   "outputs": [],
   "source": [
    "# If you are running this on Google Colab, uncomment and run the following lines; otherwise ignore this cell\n",
    "# from google.colab import drive\n",
    "# drive.mount('/content/drive')"
   ]
  },
  {
   "cell_type": "code",
   "execution_count": 1,
   "metadata": {},
   "outputs": [
    {
     "data": {
      "text/plain": [
       "(70, 2)"
      ]
     },
     "execution_count": 1,
     "metadata": {},
     "output_type": "execute_result"
    }
   ],
   "source": [
    "import math\n",
    "import numpy as np\n",
    "\n",
    "xy_data = np.load('Ex1_polyreg_data.npy')\n",
    "# If running on Google Colab change path to '/content/drive/MyDrive/IB-Data-Science/Exercises/Ex1_polyreg_data.npy'\n",
    "\n",
    "np.shape(xy_data)"
   ]
  },
  {
   "cell_type": "markdown",
   "metadata": {},
   "source": [
    "The matrix `xy_data` contains $70$ rows, each a data point of the form $(x_i,y_i)$ for $i=1, \\ldots, 70$."
   ]
  },
  {
   "cell_type": "markdown",
   "metadata": {},
   "source": [
    "### 1a) Plot the data in a scatterplot."
   ]
  },
  {
   "cell_type": "code",
   "execution_count": 17,
   "metadata": {},
   "outputs": [
    {
     "data": {
      "image/png": "[encoded data removed]",
      "text/plain": [
       "<Figure size 432x288 with 1 Axes>"
      ]
     },
     "metadata": {
      "needs_background": "light"
     },
     "output_type": "display_data"
    }
   ],
   "source": [
    "import matplotlib.pyplot as plt\n",
    "# Your code for scatterplot here\n",
    "\n",
    "plt.scatter(xy_data[:,0], xy_data[:,1], s=10, color ='blue')   # s can be used to adjust the size of the dots\n",
    "plt.xlabel('x')\n",
    "plt.ylabel('y')\n",
    "plt.title('Plot of y against x')\n",
    "plt.show()\n"
   ]
  },
  {
   "cell_type": "markdown",
   "metadata": {},
   "source": [
    "### 1b) Write a function `polyreg` to fit a polynomial of a given order to a dataset. \n",
    "The inputs to the function are a data matrix of dimension $N \\times 2$,  and $k \\geq 0$, the order of the polynomial.   The function should compute the coefficients of the polynomial $\\beta_0 + \\beta_1 x +  \\ldots  +\\beta_k x^{k}$ via least squares regression, and should return the coefficient vector, the fit, and the vector of residuals. \n",
    "\n",
    "If specified the degree $k$ is greater than or equal to $N$, then the function must fit an order $(N-1)$ polynomial and set the remaining coefficients to zero.\n",
    "\n",
    "**NOTE**: You are *not* allowed to use the built-in function `np.polyfit`."
   ]
  },
  {
   "cell_type": "code",
   "execution_count": 33,
   "metadata": {},
   "outputs": [],
   "source": [
    "def polyreg(data_matrix, k):\n",
    "    # Your code here\n",
    "    # The function should return the the coefficient vector beta, the fit, and the vector of residuals\n",
    "    \n",
    "    x_array = data_matrix[:,0]\n",
    "    y_array = data_matrix[:,1]\n",
    "    N = np.shape(data_matrix)[0]\n",
    "    \n",
    "    # construct the X matrix\n",
    "    poly_degree = min(N-1, k)\n",
    "    X = np.column_stack([x_array**i for i in range(0,poly_degree+1)])\n",
    "    \n",
    "    # Computing the optimum coefficient vector beta* using the formula\n",
    "    XT = X.T  # transpose\n",
    "    beta_lin = np.linalg.inv(XT.dot(X)).dot(XT.dot(y_array))    #can also use the built-in function np.linalg.lstsq\n",
    "    \n",
    "    # find the fit\n",
    "    fit_lin = X.dot(beta_lin)\n",
    "    \n",
    "    # residual\n",
    "    resid_lin = y_array - fit_lin \n",
    "    \n",
    "    return [beta_lin, fit_lin, resid_lin]\n",
    "    "
   ]
  },
  {
   "cell_type": "markdown",
   "metadata": {},
   "source": [
    "Use the tests below to check the outputs of the function you have written:"
   ]
  },
  {
   "cell_type": "code",
   "execution_count": 34,
   "metadata": {},
   "outputs": [],
   "source": [
    "# Some tests to make sure your function is working correctly\n",
    "\n",
    "xcol = np.arange(-1, 1.05, 0.1)\n",
    "ycol = 2 - 7*xcol + 3*(xcol**2)  # We are generating data accoridng to y = 2 - 7x + 3x^2\n",
    "test_matrix = np.transpose(np.vstack((xcol,ycol)))\n",
    "test_matrix.shape\n",
    "\n",
    "beta_test = polyreg(test_matrix, k=2)[0] \n",
    "assert((np.round(beta_test[0], 3) == 2) and (np.round(beta_test[1], 3) == -7) and (np.round(beta_test[2], 3) == 3))  \n",
    "# We want to check that using the function with k=2 recovers the coefficients exactly\n",
    "\n",
    "# Now check the zeroth order fit, i.e., the function gives the correct output with k=0\n",
    "beta_test = polyreg(test_matrix, k=0)[0]\n",
    "res_test = polyreg(test_matrix, k=0)[2] #the last output of the function gives the vector of residuals\n",
    "\n",
    "assert(np.round(beta_test, 3) == 3.1)\n",
    "assert(np.round(np.linalg.norm(res_test), 3) == 19.937)"
   ]
  },
  {
   "cell_type": "markdown",
   "metadata": {},
   "source": [
    "### 1c) Use `polyreg` to fit polynomial models for the data in `xy_data` for $k=2,3,4$:\n",
    "\n",
    "- Plot the fits for the three cases on the same plot together with the scatterplot of the data. The plots should be labelled and a legend included. \n",
    "- Compute and print the SSE and $R^2$ coefficient for each of the three cases.\n",
    "- Which of the three models you would choose? Briefly justify your choice."
   ]
  },
  {
   "cell_type": "code",
   "execution_count": 39,
   "metadata": {},
   "outputs": [
    {
     "data": {
      "image/png": "[encoded data removed]",
      "text/plain": [
       "<Figure size 432x288 with 1 Axes>"
      ]
     },
     "metadata": {
      "needs_background": "light"
     },
     "output_type": "display_data"
    },
    {
     "name": "stdout",
     "output_type": "stream",
     "text": [
      "SSE_2 =  172.18102528988553\n",
      "SSE_3 =  152.4058048891581\n",
      "SSE_4 =  151.22778969027115\n",
      "R_squared_2 =  0.8876297774918223\n",
      "R_squared_3 =  0.9005356474205022\n",
      "R_squared_4 =  0.9013044535638857\n"
     ]
    }
   ],
   "source": [
    "#Your code here\n",
    "\n",
    "polyfit0 = polyreg(xy_data, k=0)\n",
    "polyfit2 = polyreg(xy_data, k=2)\n",
    "polyfit3 = polyreg(xy_data, k=3)\n",
    "polyfit4 = polyreg(xy_data, k=4)\n",
    "\n",
    "plt.scatter(xy_data[:,0], xy_data[:,1], s=10, color ='blue')\n",
    "plt.plot(xy_data[:,0], polyfit2[1], label='2nd order fit', color ='red')\n",
    "plt.plot(xy_data[:,0], polyfit3[1], label='3rd order fit', color ='green')\n",
    "plt.plot(xy_data[:,0], polyfit4[1], label='4th order fit', color ='purple')\n",
    "\n",
    "plt.xlabel('x')\n",
    "plt.ylabel('y')\n",
    "plt.title('Plot of y against x')\n",
    "plt.legend()\n",
    "\n",
    "plt.show()\n",
    "\n",
    "SSE_0 = np.linalg.norm(polyfit0[2])**2\n",
    "SSE_2 = np.linalg.norm(polyfit2[2])**2\n",
    "SSE_3 = np.linalg.norm(polyfit3[2])**2\n",
    "SSE_4 = np.linalg.norm(polyfit4[2])**2\n",
    "print(\"SSE_2 = \", SSE_2)\n",
    "print(\"SSE_3 = \", SSE_3)\n",
    "print(\"SSE_4 = \", SSE_4)\n",
    "\n",
    "R_squared_2 = 1 - SSE_2/SSE_0\n",
    "R_squared_3 = 1 - SSE_3/SSE_0\n",
    "R_squared_4 = 1 - SSE_4/SSE_0\n",
    "print(\"R_squared_2 = \", R_squared_2)\n",
    "print(\"R_squared_3 = \", R_squared_3)\n",
    "print(\"R_squared_4 = \", R_squared_4)\n",
    "\n"
   ]
  },
  {
   "cell_type": "markdown",
   "metadata": {},
   "source": [
    " #### State which model you choose and briefly justify your choice.\n",
    " \n",
    " \n",
    " I will choose model of degree 3. As it increases the performance to a significant extent, yet keeping the model rather simple\n",
    " "
   ]
  },
  {
   "cell_type": "markdown",
   "metadata": {},
   "source": [
    "### 1d)  For the model you have chosen in the previous part (either $k=2/3/4)$:\n",
    "\n",
    "- Plot the residuals in a scatter plot. \n",
    "- Plot a histogram of the residuals along with a Gaussian pdf with zero mean and the same standard deviation as the residuals."
   ]
  },
  {
   "cell_type": "code",
   "execution_count": 48,
   "metadata": {},
   "outputs": [
    {
     "name": "stdout",
     "output_type": "stream",
     "text": [
      "Mean of residuals =  -0.0 Variance of residuals =  2.177\n"
     ]
    },
    {
     "data": {
      "image/png": "[encoded data removed]",
      "text/plain": [
       "<Figure size 720x360 with 1 Axes>"
      ]
     },
     "metadata": {
      "needs_background": "light"
     },
     "output_type": "display_data"
    }
   ],
   "source": [
    "#Your code here\n",
    "\n",
    "resid_lin = polyfit3[2]\n",
    "\n",
    "print('Mean of residuals = ', np.round(np.mean(resid_lin), 5), 'Variance of residuals = ', \n",
    "      np.round(np.var(resid_lin), 3))\n",
    "\n",
    "# Plot normed histogram of the residuals\n",
    "n, bins, patches = plt.hist(resid_lin, bins=20, density=True, facecolor='green');\n",
    "\n",
    "# Plot Gaussian pdf with same mean and variance as the residuals\n",
    "from scipy.stats import norm\n",
    "\n",
    "res_stdev = np.std(resid_lin)  #standard deviation of residuals\n",
    "xvals = np.linspace(-3*res_stdev,3*res_stdev,1000)\n",
    "plt.plot(xvals, norm.pdf(xvals, loc=0, scale=res_stdev), 'r')\n",
    "plt.show()\n"
   ]
  },
  {
   "cell_type": "code",
   "execution_count": null,
   "metadata": {},
   "outputs": [],
   "source": []
  }
 ],
 "metadata": {
  "kernelspec": {
   "display_name": "Python 3",
   "language": "python",
   "name": "python3"
  },
  "language_info": {
   "codemirror_mode": {
    "name": "ipython",
    "version": 3
   },
   "file_extension": ".py",
   "mimetype": "text/x-python",
   "name": "python",
   "nbconvert_exporter": "python",
   "pygments_lexer": "ipython3",
   "version": "3.8.8"
  }
 },
 "nbformat": 4,
 "nbformat_minor": 2
}
